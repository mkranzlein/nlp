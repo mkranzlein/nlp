{
 "cells": [
  {
   "cell_type": "code",
   "execution_count": null,
   "metadata": {},
   "outputs": [],
   "source": []
  },
  {
   "cell_type": "markdown",
   "metadata": {},
   "source": [
    "## Sigmoid\n"
   ]
  },
  {
   "cell_type": "markdown",
   "metadata": {},
   "source": [
    "## Softmax\n",
    "\n",
    "Reference: Jurafsky SLP (2025) 140\n",
    "\n",
    "Let $\\mathbf{z} \\in \\mathbb{R}^d$ be an intermediate output vector where $d$ is the dimensionality or size of the vector. $\\mathrm{softmax}$ is a function that normalizes $\\mathbf{z}$ such that its values sum to 1.\n",
    "\n",
    "$$\\mathrm{softmax}(\\mathbf{z}_i) = \\frac{\\exp(\\mathbf{z}_i)}{\\sum^{d}_{j=1}\\exp(\\mathrm{z}_j)}$$"
   ]
  },
  {
   "cell_type": "code",
   "execution_count": null,
   "metadata": {},
   "outputs": [
    {
     "data": {
      "text/plain": [
       "[0.09003057317038045, 0.24472847105479764, 0.6652409557748219]"
      ]
     },
     "execution_count": 26,
     "metadata": {},
     "output_type": "execute_result"
    }
   ],
   "source": [
    "\n",
    "import math\n",
    "\n",
    "def softmax(z):\n",
    "    \n",
    "    \n",
    "    \n",
    "    \n",
    "    \n",
    "    denominator = sum([math.exp(z_j) for z_j in z])\n",
    "    result = [math.exp(z_i) / denominator for z_i in z]\n",
    "    return result\n",
    "\n",
    "\n",
    "\n",
    "softmax([1, 2, 3])  "
   ]
  },
  {
   "cell_type": "markdown",
   "metadata": {},
   "source": [
    "## Perplexity"
   ]
  },
  {
   "cell_type": "markdown",
   "metadata": {},
   "source": [
    "## Cross-entropy"
   ]
  }
 ],
 "metadata": {
  "kernelspec": {
   "display_name": "venv",
   "language": "python",
   "name": "python3"
  },
  "language_info": {
   "codemirror_mode": {
    "name": "ipython",
    "version": 3
   },
   "file_extension": ".py",
   "mimetype": "text/x-python",
   "name": "python",
   "nbconvert_exporter": "python",
   "pygments_lexer": "ipython3",
   "version": "3.13.2"
  }
 },
 "nbformat": 4,
 "nbformat_minor": 2
}
