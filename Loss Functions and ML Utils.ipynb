{
 "cells": [
  {
   "cell_type": "markdown",
   "metadata": {},
   "source": [
    "## Sigmoid\n",
    "\n",
    "Reference: [Jurafsky SLP (2025)](https://web.stanford.edu/~jurafsky/slp3/) p. 79\n",
    "\n",
    "Also called the logistic function, $\\mathrm{sigmoid}$ smushes a real-valued input into the range $(0,1)$.\n",
    "\n",
    "Named for the \"s\" shape it produces.\n",
    "\n",
    "$$\\mathbb{\\sigma}(z) = \\frac{1}{1 + \\exp(-z)}$$"
   ]
  },
  {
   "cell_type": "markdown",
   "metadata": {},
   "source": [
    "## Softmax\n",
    "\n",
    "Reference: [Jurafsky SLP (2025)](https://web.stanford.edu/~jurafsky/slp3/) p. 140\n",
    "\n",
    "Let $\\mathbf{z} \\in \\mathbb{R}^d$ be an intermediate output vector where $d$ is the dimensionality or size of the vector. $\\mathrm{softmax}$ is a function that normalizes $\\mathbf{z}$ such that its values sum to 1.\n",
    "\n",
    "$$\\mathrm{softmax}(\\mathbf{z}_i) = \\frac{\\exp(\\mathbf{z}_i)}{\\sum^{d}_{j=1}\\exp(\\mathrm{z}_j)}$$"
   ]
  },
  {
   "cell_type": "code",
   "execution_count": 1,
   "metadata": {},
   "outputs": [
    {
     "data": {
      "text/plain": [
       "[0.09003057317038045, 0.24472847105479764, 0.6652409557748219]"
      ]
     },
     "execution_count": 1,
     "metadata": {},
     "output_type": "execute_result"
    }
   ],
   "source": [
    "import math\n",
    "\n",
    "def softmax(z):\n",
    "    denominator = sum([math.exp(z_j) for z_j in z])\n",
    "    result = [math.exp(z_i) / denominator for z_i in z]\n",
    "    return result\n",
    "\n",
    "softmax([1, 2, 3])"
   ]
  },
  {
   "cell_type": "markdown",
   "metadata": {},
   "source": [
    "## Perplexity"
   ]
  },
  {
   "cell_type": "markdown",
   "metadata": {},
   "source": [
    "## Cross-entropy"
   ]
  },
  {
   "cell_type": "markdown",
   "metadata": {},
   "source": [
    "## P, R, F1\n",
    "\n",
    "$$P = \\frac{tp}{tp + fp}$$\n",
    "\n",
    "$$R = \\frac{tp}{tp + fn}$$\n",
    "\n",
    "$$F_1 = \\frac{2pr}{p + r}$$"
   ]
  }
 ],
 "metadata": {
  "kernelspec": {
   "display_name": "nlp",
   "language": "python",
   "name": "python3"
  },
  "language_info": {
   "codemirror_mode": {
    "name": "ipython",
    "version": 3
   },
   "file_extension": ".py",
   "mimetype": "text/x-python",
   "name": "python",
   "nbconvert_exporter": "python",
   "pygments_lexer": "ipython3",
   "version": "3.13.2"
  }
 },
 "nbformat": 4,
 "nbformat_minor": 2
}
